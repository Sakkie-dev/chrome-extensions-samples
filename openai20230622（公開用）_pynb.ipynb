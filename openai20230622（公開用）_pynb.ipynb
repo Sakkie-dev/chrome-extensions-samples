{
  "nbformat": 4,
  "nbformat_minor": 0,
  "metadata": {
    "colab": {
      "provenance": [],
      "include_colab_link": true
    },
    "kernelspec": {
      "name": "python3",
      "display_name": "Python 3"
    },
    "language_info": {
      "name": "python"
    }
  },
  "cells": [
    {
      "cell_type": "markdown",
      "metadata": {
        "id": "view-in-github",
        "colab_type": "text"
      },
      "source": [
        "<a href=\"https://colab.research.google.com/github/Sakkie-dev/chrome-extensions-samples/blob/main/openai20230622%EF%BC%88%E5%85%AC%E9%96%8B%E7%94%A8%EF%BC%89_pynb.ipynb\" target=\"_parent\"><img src=\"https://colab.research.google.com/assets/colab-badge.svg\" alt=\"Open In Colab\"/></a>"
      ]
    },
    {
      "cell_type": "code",
      "execution_count": null,
      "metadata": {
        "id": "2bnFpZjLImMS"
      },
      "outputs": [],
      "source": [
        "#@title **OpenAIのAPIキーの設定**\n",
        "import openai\n",
        "import json\n",
        "import requests\n",
        "# OpenAI API（クレジットカード必須）に登録し、URLからAPIキーを取得（https://platform.openai.com/account/api-keys）\n",
        "# OpenAI APIキーの設定\n",
        "openai.api_key = \"{openai_api_key}\""
      ]
    },
    {
      "cell_type": "code",
      "source": [
        "#@title　**呼び出す関数を定義する（指定した場所の天気情報をOpenWeatherMap APIから取得し、辞書形式で返す）**\n",
        "def get_current_weather(location, unit):\n",
        "    # OpenWeatherMapに登録し、URLからAPIキーを取得(https://home.openweathermap.org/api_keys)\n",
        "    api_key = \"{OpenWeatherMap_api_key}\"\n",
        "    url = f\"http://api.openweathermap.org/data/2.5/weather?q={location}&units={unit}&appid={api_key}\"\n",
        "    response = requests.get(url)\n",
        "    weather_data = response.json()\n",
        "\n",
        "    # 必要な情報を抽出して辞書形式で返す\n",
        "    return json.dumps(weather_data)"
      ],
      "metadata": {
        "id": "pp8RWJA6Iq7B"
      },
      "execution_count": null,
      "outputs": []
    },
    {
      "cell_type": "markdown",
      "source": [
        "# **会話文章の中から目的をプロパティをOpenAIに抽出させる**"
      ],
      "metadata": {
        "id": "2aicSc29H3y6"
      }
    },
    {
      "cell_type": "code",
      "source": [
        "#@title　**APIに渡す関数の説明を記述する1（場所locationと温度の単位unit）**\n",
        "my_functions01 = [\n",
        "    {\n",
        "        \"name\": \"get_current_weather\",\n",
        "        \"description\": \"Get the current weather\",\n",
        "        \"parameters\": {\n",
        "            \"type\": \"object\",\n",
        "            \"properties\": {\n",
        "                \"location\": {\n",
        "                    \"type\": \"string\",\n",
        "                    \"description\": \"The city and state, e.g. San Francisco, CA\",\n",
        "                },\n",
        "                \"unit\": {\n",
        "                    \"type\": \"string\",\n",
        "                    \"enum\": [\"celsius\", \"fahrenheit\"],\n",
        "                    \"description\": \"The temperature unit to use. Infer this from the users location.\",\n",
        "                },\n",
        "            },\n",
        "            \"required\": [\"location\", \"unit\"],\n",
        "        },\n",
        "    }\n",
        "]"
      ],
      "metadata": {
        "id": "CXpId00yI4oW"
      },
      "execution_count": null,
      "outputs": []
    },
    {
      "cell_type": "code",
      "source": [
        "value = input(\"お客様のお望みを入力してください。自動手記人形サービス、ヴァイオレット・エヴァーガーデンです: \")\n",
        "\n",
        "response = openai.ChatCompletion.create(\n",
        "    model = \"gpt-3.5-turbo-0613\",\n",
        "    messages = [{\"role\": \"user\", \"content\": value}],\n",
        "    functions = my_functions01,\n",
        "    function_call = \"auto\",\n",
        ")\n",
        "\n",
        "print(response)\n",
        "arguments = response[\"choices\"][0][\"message\"][\"function_call\"][\"arguments\"]\n",
        "print(f\"----------\")\n",
        "print(arguments)"
      ],
      "metadata": {
        "id": "uG5_z72rI56I"
      },
      "execution_count": null,
      "outputs": []
    },
    {
      "cell_type": "code",
      "source": [
        "#@title　**お天気関数にlocationとunitを渡して天気情報を表示**\n",
        "values = get_current_weather(location=eval(arguments)[\"location\"], unit=eval(arguments)[\"unit\"])\n",
        "print(values)"
      ],
      "metadata": {
        "id": "_k67SB-BI7i3",
        "colab": {
          "base_uri": "https://localhost:8080/"
        },
        "outputId": "25efa17c-f7f6-46ff-ffb2-0db1baafe1f7"
      },
      "execution_count": null,
      "outputs": [
        {
          "output_type": "stream",
          "name": "stdout",
          "text": [
            "{\"coord\": {\"lon\": 139.6917, \"lat\": 35.6895}, \"weather\": [{\"id\": 803, \"main\": \"Clouds\", \"description\": \"broken clouds\", \"icon\": \"04d\"}], \"base\": \"stations\", \"main\": {\"temp\": 294.49, \"feels_like\": 294.61, \"temp_min\": 290.4, \"temp_max\": 295.94, \"pressure\": 1010, \"humidity\": 74}, \"visibility\": 10000, \"wind\": {\"speed\": 5.14, \"deg\": 360}, \"clouds\": {\"all\": 75}, \"dt\": 1687405315, \"sys\": {\"type\": 2, \"id\": 2001249, \"country\": \"JP\", \"sunrise\": 1687375544, \"sunset\": 1687428019}, \"timezone\": 32400, \"id\": 1850144, \"name\": \"Tokyo\", \"cod\": 200}\n"
          ]
        }
      ]
    },
    {
      "cell_type": "code",
      "source": [
        "data = json.loads(values)\n",
        "\n",
        "weather = data[\"weather\"][0][\"description\"]\n",
        "temperature = data[\"main\"][\"temp\"] - 273.15  # Kelvin to Celsius conversion\n",
        "\n",
        "print(f\"Weather: {weather}, Temperature: {temperature:.2f} Celsius\")"
      ],
      "metadata": {
        "colab": {
          "base_uri": "https://localhost:8080/"
        },
        "id": "1jl6OcDFte6V",
        "outputId": "c631ecd2-a9af-46ac-dd8c-23d29084d99d"
      },
      "execution_count": null,
      "outputs": [
        {
          "output_type": "stream",
          "name": "stdout",
          "text": [
            "Weather: broken clouds, Temperature: 21.34 Celsius\n"
          ]
        }
      ]
    },
    {
      "cell_type": "markdown",
      "source": [
        "# **プロパティ（properties）を色々変えてみる**"
      ],
      "metadata": {
        "id": "MAnjwgHtHXd0"
      }
    },
    {
      "cell_type": "code",
      "source": [
        "#@title　**APIに渡す関数の説明を記述する（目的goalと日付date）**\n",
        "my_functions02 = [\n",
        "    {\n",
        "        \"name\": \"get_current_weather\",\n",
        "        \"description\": \"Get the current weather\",\n",
        "        \"parameters\": {\n",
        "            \"type\": \"object\",\n",
        "            \"properties\": {\n",
        "                \"goal\": {\n",
        "                    \"type\": \"string\",\n",
        "                    \"description\": \"This value represents the user's purpose. For example, if the user says I want to go on a trip. e.g. trip\",\n",
        "                },\n",
        "                \"date\": {\n",
        "                    \"type\": \"string\",\n",
        "                    \"description\": \"YYYY-MM-DD Date of this year. I will be in Tokyo on June 30.  e.g. 2023-06-30\",\n",
        "                },\n",
        "            },\n",
        "            \"required\": [\"location\", \"unit\"],\n",
        "        },\n",
        "    }\n",
        "]"
      ],
      "metadata": {
        "id": "vn5D-x6jCWeX"
      },
      "execution_count": null,
      "outputs": []
    },
    {
      "cell_type": "code",
      "source": [
        "value = input(\"お客様のお望みを入力してください。自動手記人形サービス、ヴァイオレット・エヴァーガーデンです: \")\n",
        "\n",
        "response = openai.ChatCompletion.create(\n",
        "    model = \"gpt-3.5-turbo-0613\",\n",
        "    messages = [{\"role\": \"user\", \"content\": value}],\n",
        "    functions = my_functions02,\n",
        "    function_call = \"auto\",\n",
        ")\n",
        "\n",
        "print(response)\n",
        "arguments = response[\"choices\"][0][\"message\"][\"function_call\"][\"arguments\"]\n",
        "print(f\"----------\")\n",
        "print(arguments)"
      ],
      "metadata": {
        "id": "Ob0qir-kEVhh"
      },
      "execution_count": null,
      "outputs": []
    }
  ]
}